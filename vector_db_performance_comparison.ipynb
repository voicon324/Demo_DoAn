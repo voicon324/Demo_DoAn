{
 "cells": [
  {
   "cell_type": "markdown",
   "id": "8157729d",
   "metadata": {},
   "source": [
    "# Vector Database Performance Comparison\n",
    "\n",
    "This notebook compares the search performance of Milvus, Weaviate, Qdrant, and a Brute-Force method.\n",
    "The comparison is based on:\n",
    "- Randomly generated vectors.\n",
    "- Varying dataset sizes (number of vectors).\n",
    "- Cosine similarity as the distance metric.\n",
    "- Measurement of both insertion time and search time.\n",
    "\n",
    "**Prerequisites:**\n",
    "- Ensure Milvus, Weaviate, and Qdrant services are running (e.g., via the `all_databases_docker_compose.yml`).\n",
    "- The necessary Python client libraries are installed."
   ]
  },
  {
   "cell_type": "code",
   "execution_count": 1,
   "id": "fdaee1fc",
   "metadata": {},
   "outputs": [
    {
     "name": "stdout",
     "output_type": "stream",
     "text": [
      "Requirement already satisfied: pymilvus in c:\\users\\hokha\\appdata\\local\\programs\\python\\python313\\lib\\site-packages (2.5.9)\n",
      "Requirement already satisfied: weaviate-client in c:\\users\\hokha\\appdata\\local\\programs\\python\\python313\\lib\\site-packages (4.14.4)\n",
      "Requirement already satisfied: qdrant-client in c:\\users\\hokha\\appdata\\local\\programs\\python\\python313\\lib\\site-packages (1.14.2)\n",
      "Requirement already satisfied: numpy in c:\\users\\hokha\\appdata\\local\\programs\\python\\python313\\lib\\site-packages (2.2.3)\n",
      "Requirement already satisfied: matplotlib in c:\\users\\hokha\\appdata\\local\\programs\\python\\python313\\lib\\site-packages (3.10.0)\n",
      "Requirement already satisfied: tqdm in c:\\users\\hokha\\appdata\\local\\programs\\python\\python313\\lib\\site-packages (4.67.1)\n",
      "Requirement already satisfied: scikit-learn in c:\\users\\hokha\\appdata\\local\\programs\\python\\python313\\lib\\site-packages (1.6.1)\n",
      "Requirement already satisfied: pandas in c:\\users\\hokha\\appdata\\local\\programs\\python\\python313\\lib\\site-packages (2.2.3)\n",
      "Requirement already satisfied: setuptools>69 in c:\\users\\hokha\\appdata\\local\\programs\\python\\python313\\lib\\site-packages (from pymilvus) (79.0.1)\n",
      "Requirement already satisfied: grpcio<=1.67.1,>=1.49.1 in c:\\users\\hokha\\appdata\\local\\programs\\python\\python313\\lib\\site-packages (from pymilvus) (1.67.1)\n",
      "Requirement already satisfied: protobuf>=3.20.0 in c:\\users\\hokha\\appdata\\local\\programs\\python\\python313\\lib\\site-packages (from pymilvus) (5.29.3)\n",
      "Requirement already satisfied: python-dotenv<2.0.0,>=1.0.1 in c:\\users\\hokha\\appdata\\local\\programs\\python\\python313\\lib\\site-packages (from pymilvus) (1.1.0)\n",
      "Requirement already satisfied: ujson>=2.0.0 in c:\\users\\hokha\\appdata\\local\\programs\\python\\python313\\lib\\site-packages (from pymilvus) (5.10.0)\n",
      "Requirement already satisfied: httpx<0.29.0,>=0.26.0 in c:\\users\\hokha\\appdata\\local\\programs\\python\\python313\\lib\\site-packages (from weaviate-client) (0.28.1)\n",
      "Requirement already satisfied: validators==0.34.0 in c:\\users\\hokha\\appdata\\local\\programs\\python\\python313\\lib\\site-packages (from weaviate-client) (0.34.0)\n",
      "Requirement already satisfied: authlib<1.3.2,>=1.2.1 in c:\\users\\hokha\\appdata\\local\\programs\\python\\python313\\lib\\site-packages (from weaviate-client) (1.3.1)\n",
      "Requirement already satisfied: pydantic<3.0.0,>=2.8.0 in c:\\users\\hokha\\appdata\\local\\programs\\python\\python313\\lib\\site-packages (from weaviate-client) (2.10.6)\n",
      "Requirement already satisfied: grpcio-tools<2.0.0,>=1.66.2 in c:\\users\\hokha\\appdata\\local\\programs\\python\\python313\\lib\\site-packages (from weaviate-client) (1.67.1)\n",
      "Requirement already satisfied: grpcio-health-checking<2.0.0,>=1.66.2 in c:\\users\\hokha\\appdata\\local\\programs\\python\\python313\\lib\\site-packages (from weaviate-client) (1.67.1)\n",
      "Requirement already satisfied: deprecation<3.0.0,>=2.1.0 in c:\\users\\hokha\\appdata\\local\\programs\\python\\python313\\lib\\site-packages (from weaviate-client) (2.1.0)\n",
      "Requirement already satisfied: portalocker<3.0.0,>=2.7.0 in c:\\users\\hokha\\appdata\\local\\programs\\python\\python313\\lib\\site-packages (from qdrant-client) (2.10.1)\n",
      "Requirement already satisfied: urllib3<3,>=1.26.14 in c:\\users\\hokha\\appdata\\local\\programs\\python\\python313\\lib\\site-packages (from qdrant-client) (2.3.0)\n",
      "Requirement already satisfied: contourpy>=1.0.1 in c:\\users\\hokha\\appdata\\local\\programs\\python\\python313\\lib\\site-packages (from matplotlib) (1.3.1)\n",
      "Requirement already satisfied: cycler>=0.10 in c:\\users\\hokha\\appdata\\local\\programs\\python\\python313\\lib\\site-packages (from matplotlib) (0.12.1)\n",
      "Requirement already satisfied: fonttools>=4.22.0 in c:\\users\\hokha\\appdata\\local\\programs\\python\\python313\\lib\\site-packages (from matplotlib) (4.56.0)\n",
      "Requirement already satisfied: kiwisolver>=1.3.1 in c:\\users\\hokha\\appdata\\local\\programs\\python\\python313\\lib\\site-packages (from matplotlib) (1.4.8)\n",
      "Requirement already satisfied: packaging>=20.0 in c:\\users\\hokha\\appdata\\local\\programs\\python\\python313\\lib\\site-packages (from matplotlib) (24.2)\n",
      "Requirement already satisfied: pillow>=8 in c:\\users\\hokha\\appdata\\local\\programs\\python\\python313\\lib\\site-packages (from matplotlib) (11.1.0)\n",
      "Requirement already satisfied: pyparsing>=2.3.1 in c:\\users\\hokha\\appdata\\local\\programs\\python\\python313\\lib\\site-packages (from matplotlib) (3.2.1)\n",
      "Requirement already satisfied: python-dateutil>=2.7 in c:\\users\\hokha\\appdata\\local\\programs\\python\\python313\\lib\\site-packages (from matplotlib) (2.9.0.post0)\n",
      "Requirement already satisfied: colorama in c:\\users\\hokha\\appdata\\local\\programs\\python\\python313\\lib\\site-packages (from tqdm) (0.4.6)\n",
      "Requirement already satisfied: scipy>=1.6.0 in c:\\users\\hokha\\appdata\\local\\programs\\python\\python313\\lib\\site-packages (from scikit-learn) (1.15.2)\n",
      "Requirement already satisfied: joblib>=1.2.0 in c:\\users\\hokha\\appdata\\local\\programs\\python\\python313\\lib\\site-packages (from scikit-learn) (1.5.0)\n",
      "Requirement already satisfied: threadpoolctl>=3.1.0 in c:\\users\\hokha\\appdata\\local\\programs\\python\\python313\\lib\\site-packages (from scikit-learn) (3.6.0)\n",
      "Requirement already satisfied: pytz>=2020.1 in c:\\users\\hokha\\appdata\\local\\programs\\python\\python313\\lib\\site-packages (from pandas) (2025.2)\n",
      "Requirement already satisfied: tzdata>=2022.7 in c:\\users\\hokha\\appdata\\local\\programs\\python\\python313\\lib\\site-packages (from pandas) (2025.1)\n",
      "Requirement already satisfied: cryptography in c:\\users\\hokha\\appdata\\local\\programs\\python\\python313\\lib\\site-packages (from authlib<1.3.2,>=1.2.1->weaviate-client) (44.0.2)\n",
      "Requirement already satisfied: anyio in c:\\users\\hokha\\appdata\\local\\programs\\python\\python313\\lib\\site-packages (from httpx<0.29.0,>=0.26.0->weaviate-client) (4.8.0)\n",
      "Requirement already satisfied: certifi in c:\\users\\hokha\\appdata\\local\\programs\\python\\python313\\lib\\site-packages (from httpx<0.29.0,>=0.26.0->weaviate-client) (2024.12.14)\n",
      "Requirement already satisfied: httpcore==1.* in c:\\users\\hokha\\appdata\\local\\programs\\python\\python313\\lib\\site-packages (from httpx<0.29.0,>=0.26.0->weaviate-client) (1.0.7)\n",
      "Requirement already satisfied: idna in c:\\users\\hokha\\appdata\\local\\programs\\python\\python313\\lib\\site-packages (from httpx<0.29.0,>=0.26.0->weaviate-client) (3.10)\n",
      "Requirement already satisfied: h11<0.15,>=0.13 in c:\\users\\hokha\\appdata\\local\\programs\\python\\python313\\lib\\site-packages (from httpcore==1.*->httpx<0.29.0,>=0.26.0->weaviate-client) (0.14.0)\n",
      "Requirement already satisfied: h2<5,>=3 in c:\\users\\hokha\\appdata\\local\\programs\\python\\python313\\lib\\site-packages (from httpx[http2]>=0.20.0->qdrant-client) (4.2.0)\n",
      "Requirement already satisfied: pywin32>=226 in c:\\users\\hokha\\appdata\\roaming\\python\\python313\\site-packages (from portalocker<3.0.0,>=2.7.0->qdrant-client) (310)\n",
      "Requirement already satisfied: annotated-types>=0.6.0 in c:\\users\\hokha\\appdata\\local\\programs\\python\\python313\\lib\\site-packages (from pydantic<3.0.0,>=2.8.0->weaviate-client) (0.7.0)\n",
      "Requirement already satisfied: pydantic-core==2.27.2 in c:\\users\\hokha\\appdata\\local\\programs\\python\\python313\\lib\\site-packages (from pydantic<3.0.0,>=2.8.0->weaviate-client) (2.27.2)\n",
      "Requirement already satisfied: typing-extensions>=4.12.2 in c:\\users\\hokha\\appdata\\local\\programs\\python\\python313\\lib\\site-packages (from pydantic<3.0.0,>=2.8.0->weaviate-client) (4.12.2)\n",
      "Requirement already satisfied: six>=1.5 in c:\\users\\hokha\\appdata\\local\\programs\\python\\python313\\lib\\site-packages (from python-dateutil>=2.7->matplotlib) (1.17.0)\n",
      "Requirement already satisfied: hyperframe<7,>=6.1 in c:\\users\\hokha\\appdata\\local\\programs\\python\\python313\\lib\\site-packages (from h2<5,>=3->httpx[http2]>=0.20.0->qdrant-client) (6.1.0)\n",
      "Requirement already satisfied: hpack<5,>=4.1 in c:\\users\\hokha\\appdata\\local\\programs\\python\\python313\\lib\\site-packages (from h2<5,>=3->httpx[http2]>=0.20.0->qdrant-client) (4.1.0)\n",
      "Requirement already satisfied: sniffio>=1.1 in c:\\users\\hokha\\appdata\\local\\programs\\python\\python313\\lib\\site-packages (from anyio->httpx<0.29.0,>=0.26.0->weaviate-client) (1.3.1)\n",
      "Requirement already satisfied: cffi>=1.12 in c:\\users\\hokha\\appdata\\local\\programs\\python\\python313\\lib\\site-packages (from cryptography->authlib<1.3.2,>=1.2.1->weaviate-client) (1.17.1)\n",
      "Requirement already satisfied: pycparser in c:\\users\\hokha\\appdata\\local\\programs\\python\\python313\\lib\\site-packages (from cffi>=1.12->cryptography->authlib<1.3.2,>=1.2.1->weaviate-client) (2.22)\n"
     ]
    },
    {
     "name": "stderr",
     "output_type": "stream",
     "text": [
      "\n",
      "[notice] A new release of pip is available: 25.0.1 -> 25.1.1\n",
      "[notice] To update, run: python.exe -m pip install --upgrade pip\n"
     ]
    }
   ],
   "source": [
    "# 1. Install Dependencies\n",
    "# Uncomment and run the following line if you haven't installed the packages yet.\n",
    "!pip install pymilvus weaviate-client qdrant-client numpy matplotlib tqdm scikit-learn pandas"
   ]
  },
  {
   "cell_type": "code",
   "execution_count": 2,
   "id": "c4cc922a",
   "metadata": {},
   "outputs": [],
   "source": [
    "# 2. Imports and Configuration\n",
    "import os\n",
    "import time\n",
    "import numpy as np\n",
    "import matplotlib.pyplot as plt\n",
    "from tqdm import tqdm\n",
    "import pandas as pd\n",
    "import gc  # For garbage collection\n",
    "import time\n",
    "\n",
    "# Database Connection Parameters\n",
    "MILVUS_HOST = \"localhost\"\n",
    "MILVUS_PORT = \"19530\"\n",
    "MILVUS_COLLECTION_NAME = \"performance_test_milvus\"\n",
    "\n",
    "WEAVIATE_URL = \"http://localhost:8080\" # Default from your docker-compose\n",
    "WEAVIATE_CLASS_NAME = \"PerformanceTestItem\"\n",
    "\n",
    "QDRANT_HOST = \"127.0.0.1\"\n",
    "QDRANT_PORT = 6333\n",
    "QDRANT_COLLECTION_NAME = \"performance_test_qdrant\"\n",
    "\n",
    "# Experiment Parameters\n",
    "VECTOR_DIMENSION = 128  # Example dimension, adjust as needed\n",
    "NUM_VECTORS_TO_TEST = [1000, 10000, 100000, 1000000, 2000000, 5000000]  # Number of vectors to test\n",
    "TOP_K = 10  # Number of nearest neighbors to retrieve\n",
    "NUM_QUERIES = 10 # Number of random queries to average search time over\n",
    "DATA_INSERTION_BATCH_SIZE = 50000  # Number of vectors to generate and insert in each batch\n",
    "MAX_BRUTE_FORCE_VECTORS = 5000000  # Skip brute-force for N > this to avoid OOM\n",
    "MAX_WEAVIATE_VECTORS = 1000000  # Skip Weaviate for N > this to avoid OOM\n",
    "\n",
    "# For reproducibility\n",
    "np.random.seed(42)\n",
    "\n",
    "# Ensure data directory exists for results\n",
    "RESULTS_DIR = \"performance_results\"\n",
    "os.makedirs(RESULTS_DIR, exist_ok=True)"
   ]
  },
  {
   "cell_type": "markdown",
   "id": "9c9d16b7",
   "metadata": {},
   "source": [
    "## Helper Functions"
   ]
  },
  {
   "cell_type": "code",
   "execution_count": 3,
   "id": "7a7fcb93",
   "metadata": {},
   "outputs": [],
   "source": [
    "# 3.1. Data Generation\n",
    "def generate_random_vectors(num_vectors, dim):\n",
    "    \"\"\"Generates num_vectors of dim-dimensional random vectors, L2 normalized.\"\"\"\n",
    "    vectors = np.random.rand(num_vectors, dim).astype(np.float32)\n",
    "    # Normalize for cosine similarity (equivalent to IP on normalized vectors)\n",
    "    norm = np.linalg.norm(vectors, axis=1, keepdims=True)\n",
    "    # Handle potential division by zero if a vector is all zeros\n",
    "    vectors = np.divide(vectors, norm, out=np.zeros_like(vectors), where=norm!=0)\n",
    "    return vectors\n",
    "\n",
    "def generate_ids(num_vectors, start_id=0):\n",
    "    \"\"\"Generates a list of unique integer IDs starting from start_id.\"\"\"\n",
    "    return list(range(start_id, start_id + num_vectors))"
   ]
  },
  {
   "cell_type": "code",
   "execution_count": 4,
   "id": "134d4576",
   "metadata": {},
   "outputs": [],
   "source": [
    "# 3.2. Brute-Force Search\n",
    "def brute_force_search(query_vector, data_vectors, top_k):\n",
    "    \"\"\"\n",
    "    Performs brute-force search using cosine similarity.\n",
    "    Assumes query_vector and data_vectors are L2 normalized.\n",
    "    \"\"\"\n",
    "    # Cosine similarity for normalized vectors is dot product\n",
    "    # similarities = np.dot(data_vectors, query_vector)\n",
    "    similarities = [np.dot(query_vector, vec) for vec in data_vectors]\n",
    "    similarities = np.array(similarities)\n",
    "    # Get top_k indices (sort descending, take top k)\n",
    "    # Using argpartition for efficiency to find top k, then sort only those k\n",
    "    if len(similarities) == 0:  # Handle empty data_vectors\n",
    "        return np.array([]), np.array([])\n",
    "    if len(similarities) <= top_k:\n",
    "        sorted_indices = np.argsort(similarities)[::-1]\n",
    "    else:\n",
    "        # Get indices of the k largest values\n",
    "        indices_of_top_k = np.argpartition(similarities, -top_k)[-top_k:]\n",
    "        # Sort these k indices by their similarity values\n",
    "        sorted_indices = indices_of_top_k[np.argsort(similarities[indices_of_top_k])[::-1]]\n",
    "    \n",
    "    return sorted_indices, similarities[sorted_indices]"
   ]
  },
  {
   "cell_type": "code",
   "execution_count": 5,
   "id": "632b8c2a",
   "metadata": {},
   "outputs": [],
   "source": [
    "# 3.3. Milvus Helper Functions\n",
    "from pymilvus import connections, utility, Collection, CollectionSchema, FieldSchema\n",
    "from pymilvus import DataType as MilvusDataType\n",
    "\n",
    "def setup_milvus(collection_name, dim):\n",
    "    # Connection is now handled globally in the experiment section\n",
    "    if utility.has_collection(collection_name):\n",
    "        utility.drop_collection(collection_name)\n",
    "        print(f\"Dropped existing Milvus collection: {collection_name}\")\n",
    "\n",
    "    fields = [\n",
    "        FieldSchema(name=\"id\", dtype=MilvusDataType.INT64, is_primary=True, auto_id=False),\n",
    "        FieldSchema(name=\"vector\", dtype=MilvusDataType.FLOAT_VECTOR, dim=dim)\n",
    "    ]\n",
    "    schema = CollectionSchema(fields, description=\"Performance test collection for Milvus\")\n",
    "    collection = Collection(collection_name, schema=schema)\n",
    "    \n",
    "    # Use HNSW index for better search performance\n",
    "    index_params = {\n",
    "        \"metric_type\": \"IP\",  # Inner Product, equivalent to Cosine for normalized vectors\n",
    "        \"index_type\": \"HNSW\", # Better for search performance than AUTOINDEX\n",
    "        \"params\": {\n",
    "            \"M\": 16,           # Number of bidirectional links for each node\n",
    "            \"efConstruction\": 200  # Higher value means higher index quality but slower build\n",
    "        }\n",
    "    }\n",
    "    collection.create_index(field_name=\"vector\", index_params=index_params)\n",
    "    print(f\"Milvus collection '{collection_name}' created with HNSW index.\")\n",
    "    return collection\n",
    "\n",
    "def insert_into_milvus(collection, ids, vectors):\n",
    "    entities = [ids, vectors]\n",
    "    insert_result = collection.insert(entities)\n",
    "    # Removing flush from here - will be done once after all batches\n",
    "    return len(insert_result.primary_keys)\n",
    "\n",
    "def search_milvus(collection, query_vector, top_k):\n",
    "    # collection.load() is now called once before the search loop\n",
    "    search_params = {\n",
    "        \"metric_type\": \"IP\",\n",
    "        \"params\": {\n",
    "            \"ef\": 100  # Increasing search scope improves recall but slows search\n",
    "        }\n",
    "    }\n",
    "    results = collection.search(\n",
    "        data=[query_vector],\n",
    "        anns_field=\"vector\",\n",
    "        param=search_params,\n",
    "        limit=top_k,\n",
    "        expr=None, # No filtering\n",
    "        consistency_level=\"Strong\"\n",
    "    )\n",
    "    # collection.release() is now called once after all searches\n",
    "    return results"
   ]
  },
  {
   "cell_type": "code",
   "execution_count": 6,
   "id": "3bf40a51",
   "metadata": {},
   "outputs": [],
   "source": [
    "# 3.4. Weaviate Helper Functions\n",
    "import weaviate\n",
    "from weaviate import Client\n",
    "from weaviate.classes.config import Configure, Property, VectorDistances\n",
    "from  weaviate.classes.config import DataType as WeaviateDataType\n",
    "\n",
    "def setup_weaviate(client, class_name, dim):\n",
    "    try:\n",
    "        # Check if class exists and delete it if it does\n",
    "        if client.collections.exists(class_name):\n",
    "            client.collections.delete(class_name)\n",
    "            print(f\"Dropped existing Weaviate class: {class_name}\")\n",
    "    except Exception as e:\n",
    "        print(f\"Warning: Could not delete class {class_name} - may not exist yet: {e}\")\n",
    "\n",
    "    # Configure HNSW parameters for better search performance\n",
    "    # Create new class with the class name\n",
    "    collection = client.collections.create(\n",
    "        name=class_name,\n",
    "        properties=[\n",
    "            Property(name=\"identifier\", data_type=WeaviateDataType.INT, description=\"Unique int ID\")\n",
    "        ],\n",
    "        # Configure vector index settings\n",
    "        vector_index_config=Configure.VectorIndex.hnsw(\n",
    "            ef_construction=128,\n",
    "            distance_metric=VectorDistances.COSINE\n",
    "        ),\n",
    "    )\n",
    "    print(f\"Created Weaviate class '{class_name}' with HNSW configuration.\")\n",
    "    return collection\n",
    "\n",
    "# def insert_into_weaviate(client, class_name, ids, vectors):\n",
    "#     # Get the collection\n",
    "#     collection = client.collections.get(class_name)\n",
    "#     # Create batch\n",
    "#     with collection.batch.dynamic() as batch:\n",
    "#         for id_val, vec in zip(ids, vectors):\n",
    "#             # Create object with properties and vector\n",
    "#             batch.add_object(\n",
    "#                 properties={\"identifier\": int(id_val)},\n",
    "#                 vector=vec.tolist()  # Ensure vector is a list\n",
    "#             )\n",
    "    \n",
    "#     return len(ids)  # Weaviate batch doesn't return count directly, assume all succeed\n",
    "\n",
    "def insert_into_weaviate(\n",
    "    client: Client,\n",
    "    class_name: str,\n",
    "    ids: list[int],\n",
    "    vectors: np.ndarray,\n",
    "    batch_size: int = 50000,\n",
    "    thread_count: int = 8\n",
    ") -> int:\n",
    "    \"\"\"\n",
    "    Insert nhanh vào Weaviate:\n",
    "    - Gán batch_size, thread_count, dynamic ngay trong context.\n",
    "    \"\"\"\n",
    "    collection = client.collections.get(class_name)\n",
    "\n",
    "    with collection.batch.dynamic() as batch:\n",
    "        # Cấu hình batch sau khi vào context\n",
    "        batch.batch_size   = batch_size\n",
    "        batch.thread_count = thread_count\n",
    "        batch.dynamic      = True\n",
    "        batch.progress     = False\n",
    "\n",
    "        for id_val, vec in zip(ids, vectors):\n",
    "            batch.add_object(\n",
    "                properties={\"identifier\": int(id_val)},\n",
    "                vector=vec.tolist()\n",
    "            )\n",
    "\n",
    "    return len(ids)\n",
    "\n",
    "\n",
    "def search_weaviate(client, class_name, query_vector, top_k):\n",
    "    # Get the collection\n",
    "    collection = client.collections.get(class_name)\n",
    "    # Perform vector search\n",
    "    query_result = collection.query.near_vector(\n",
    "        near_vector=query_vector.tolist(),\n",
    "        limit=top_k,\n",
    "        return_properties=[\"identifier\"]\n",
    "    )\n",
    "    \n",
    "    return query_result"
   ]
  },
  {
   "cell_type": "code",
   "execution_count": 7,
   "id": "2dc1c91a",
   "metadata": {},
   "outputs": [],
   "source": [
    "# 3.5. Qdrant Helper Functions\n",
    "from qdrant_client import QdrantClient\n",
    "from qdrant_client.http import models as rest\n",
    "from qdrant_client.http.models import Distance, VectorParams, HnswConfigDiff, OptimizersConfigDiff, PointStruct\n",
    "\n",
    "def setup_qdrant(client, collection_name, dim):\n",
    "    try:\n",
    "        # Try to get collection info to check if it exists\n",
    "        if client.collection_exists(collection_name=collection_name):\n",
    "            client.delete_collection(collection_name=collection_name)\n",
    "            print(f\"Dropped existing Qdrant collection: {collection_name}\")\n",
    "    except Exception as e: # More generic catch as specific exception for not found might vary\n",
    "        print(f\"Could not delete Qdrant collection {collection_name} (may not exist): {e}\")\n",
    "\n",
    "    # Configure HNSW parameters for better search performance\n",
    "    client.create_collection(\n",
    "        collection_name=collection_name,\n",
    "        vectors_config=rest.VectorParams(\n",
    "            size=dim, \n",
    "            distance=rest.Distance.COSINE\n",
    "        ),\n",
    "        hnsw_config=rest.HnswConfigDiff(\n",
    "            m=16,               # Number of bidirectional links created for each new element\n",
    "            ef_construct=200,   # Size of the dynamic candidate list for construction\n",
    "        ),\n",
    "        optimizers_config=rest.OptimizersConfigDiff(\n",
    "            indexing_threshold=10000,  # Start indexing after this many vectors\n",
    "        )\n",
    "    )\n",
    "    print(f\"Qdrant collection '{collection_name}' created with optimized HNSW parameters.\")\n",
    "\n",
    "# def insert_into_qdrant(client, collection_name, ids, vectors):\n",
    "#     # Qdrant expects payloads, we can use the ID as a simple payload or skip if not needed\n",
    "#     points = [rest.PointStruct(id=int(id_val), vector=vector.tolist(), payload={\"id\": int(id_val)}) for id_val, vector in zip(ids, vectors)]\n",
    "#     # Use wait=False for faster async insertion (we'll ensure indexing completes before search)\n",
    "#     client.upsert(collection_name=collection_name, points=points, wait=False)\n",
    "#     return len(points)\n",
    "\n",
    "def insert_into_qdrant(\n",
    "    client: QdrantClient,\n",
    "    collection_name: str,\n",
    "    ids: list[int],\n",
    "    vectors: np.ndarray,\n",
    "    batch_size: int = 50000\n",
    ") -> int:\n",
    "    \"\"\"\n",
    "    Insert lớn vào Qdrant:\n",
    "    - Upsert async cho tất cả batch, nhưng chỉ chờ batch cuối.\n",
    "    \"\"\"\n",
    "    total = 0\n",
    "    n = len(ids)\n",
    "    for i in range(0, n, batch_size):\n",
    "        chunk_ids = ids[i : i + batch_size]\n",
    "        chunk_vec = vectors[i : i + batch_size]\n",
    "        points = [\n",
    "            PointStruct(id=int(_id), vector=v.tolist(), payload={\"id\": int(_id)})\n",
    "            for _id, v in zip(chunk_ids, chunk_vec)\n",
    "        ]\n",
    "        # wait=True chỉ cho batch cuối, thay thế wait_collection_ready không tồn tại\n",
    "        is_last = (i + batch_size) >= n\n",
    "        client.upsert(\n",
    "            collection_name=collection_name,\n",
    "            points=points,\n",
    "            wait=is_last\n",
    "        )\n",
    "        total += len(points)\n",
    "\n",
    "    return total\n",
    "\n",
    "def search_qdrant(client, collection_name, query_vector, top_k):\n",
    "    # Use optimized search parameters\n",
    "    search_result = client.search(\n",
    "        collection_name=collection_name,\n",
    "        query_vector=query_vector.tolist(),\n",
    "        limit=top_k,\n",
    "        search_params=rest.SearchParams(\n",
    "            hnsw_ef=128  # Increasing ef improves recall at the cost of latency\n",
    "        )\n",
    "    )\n",
    "    return search_result"
   ]
  },
  {
   "cell_type": "markdown",
   "id": "73873648",
   "metadata": {},
   "source": [
    "## Experiment Execution"
   ]
  },
  {
   "cell_type": "code",
   "execution_count": 8,
   "id": "17226874",
   "metadata": {},
   "outputs": [
    {
     "name": "stdout",
     "output_type": "stream",
     "text": [
      "Successfully connected to Milvus for experiment.\n",
      "Successfully connected to Weaviate for experiment.\n",
      "Successfully connected to Qdrant for experiment.\n"
     ]
    }
   ],
   "source": [
    "# --- Milvus Client Initialization ---\n",
    "try:\n",
    "    connections.connect(\n",
    "        host=MILVUS_HOST, \n",
    "        port=MILVUS_PORT, \n",
    "        timeout=10, \n",
    "    )\n",
    "    print(\"Successfully connected to Milvus for experiment.\")\n",
    "    milvus_client_available = True\n",
    "except Exception as e:\n",
    "    print(f\"Failed to connect to Milvus: {e}. Milvus tests will be skipped.\")\n",
    "    milvus_client_available = False\n",
    "\n",
    "# --- Weaviate Client Initialization ---\n",
    "try:\n",
    "    # Import weaviate for v4 client\n",
    "    import weaviate\n",
    "    \n",
    "    # Initialize client with v4 API\n",
    "    weaviate_client = weaviate.connect_to_local()\n",
    "    \n",
    "    # Check if client is ready\n",
    "    if not weaviate_client.is_ready():\n",
    "        raise Exception(\"Weaviate client not ready\")\n",
    "    print(\"Successfully connected to Weaviate for experiment.\")\n",
    "    weaviate_client_available = True\n",
    "except Exception as e:\n",
    "    print(f\"Failed to connect to Weaviate: {e}. Weaviate tests will be skipped.\")\n",
    "    weaviate_client_available = False\n",
    "\n",
    "# --- Qdrant Client Initialization ---\n",
    "try:\n",
    "    qdrant_clientx = QdrantClient(\n",
    "        host=\"127.0.0.1\",\n",
    "        port=6334,\n",
    "        prefer_grpc=True,\n",
    "        timeout=30\n",
    "    )\n",
    "    # Try a simple operation to check connection, e.g., list collections\n",
    "    qdrant_clientx.get_collections()\n",
    "    print(\"Successfully connected to Qdrant for experiment.\")\n",
    "    qdrant_client_available = True\n",
    "except Exception as e:\n",
    "    print(f\"Failed to connect to Qdrant: {e}. Qdrant tests will be skipped.\")\n",
    "    qdrant_client_available = False"
   ]
  },
  {
   "cell_type": "code",
   "execution_count": 9,
   "id": "dabb073b",
   "metadata": {},
   "outputs": [
    {
     "name": "stdout",
     "output_type": "stream",
     "text": [
      "\n",
      "--- Testing with 1000 vectors (Dimension: 128) ---\n",
      "Generating 10 query vectors for N=1000...\n",
      "\n",
      "Running Milvus Test...\n",
      "Milvus collection 'performance_test_milvus' created with HNSW index.\n",
      "Milvus: Inserting 1000 vectors in batches of 50000...\n"
     ]
    },
    {
     "name": "stderr",
     "output_type": "stream",
     "text": [
      "Milvus Inserting Batches: 100%|██████████| 1/1 [00:00<00:00,  2.95it/s]\n"
     ]
    },
    {
     "name": "stdout",
     "output_type": "stream",
     "text": [
      "Milvus: Flushing all inserted data...\n",
      "Milvus total insertion and flush time: 3.3648s\n",
      "Milvus: Loading collection for search...\n"
     ]
    },
    {
     "name": "stderr",
     "output_type": "stream",
     "text": [
      "Milvus Searching: 100%|██████████| 10/10 [00:03<00:00,  2.71it/s]\n"
     ]
    },
    {
     "name": "stdout",
     "output_type": "stream",
     "text": [
      "Milvus average search time: 0.369010s\n",
      "\n",
      "Running Weaviate Test...\n",
      "Created Weaviate class 'PerformanceTestItem' with HNSW configuration.\n",
      "Weaviate: Inserting 1000 vectors in batches of 50000...\n"
     ]
    },
    {
     "name": "stderr",
     "output_type": "stream",
     "text": [
      "Weaviate Inserting Batches: 100%|██████████| 1/1 [00:01<00:00,  1.65s/it]\n"
     ]
    },
    {
     "name": "stdout",
     "output_type": "stream",
     "text": [
      "Weaviate insertion time: 1.6444s\n"
     ]
    },
    {
     "name": "stderr",
     "output_type": "stream",
     "text": [
      "Weaviate Searching: 100%|██████████| 10/10 [00:00<00:00, 622.27it/s]\n"
     ]
    },
    {
     "name": "stdout",
     "output_type": "stream",
     "text": [
      "Weaviate average search time: 0.001592s\n",
      "Dropped Weaviate class: PerformanceTestItem\n",
      "\n",
      "Running Qdrant Test...\n",
      "Qdrant collection 'performance_test_qdrant' created with optimized HNSW parameters.\n",
      "Qdrant: Inserting 1000 vectors in batches of 50000...\n"
     ]
    },
    {
     "name": "stderr",
     "output_type": "stream",
     "text": [
      "Qdrant Inserting Batches: 100%|██████████| 1/1 [00:00<00:00,  4.78it/s]\n"
     ]
    },
    {
     "name": "stdout",
     "output_type": "stream",
     "text": [
      "Qdrant insertion time (async upsert): 0.2071s\n"
     ]
    },
    {
     "name": "stderr",
     "output_type": "stream",
     "text": [
      "Qdrant Searching:   0%|          | 0/10 [00:00<?, ?it/s]C:\\Users\\hokha\\AppData\\Local\\Temp\\ipykernel_14876\\151612134.py:72: DeprecationWarning: `search` method is deprecated and will be removed in the future. Use `query_points` instead.\n",
      "  search_result = client.search(\n",
      "Qdrant Searching: 100%|██████████| 10/10 [00:00<00:00, 608.62it/s]\n"
     ]
    },
    {
     "name": "stdout",
     "output_type": "stream",
     "text": [
      "Qdrant average search time: 0.001634s\n",
      "\n",
      "Running Brute-Force Test...\n",
      "Brute-Force: Generating 1000 vectors for search...\n"
     ]
    },
    {
     "name": "stderr",
     "output_type": "stream",
     "text": [
      "Generating Brute-Force Data: 100%|██████████| 1/1 [00:00<00:00, 687.48it/s]\n",
      "Brute-Force Searching: 100%|██████████| 10/10 [00:00<00:00, 987.24it/s]\n"
     ]
    },
    {
     "name": "stdout",
     "output_type": "stream",
     "text": [
      "Brute-force average search time: 0.000987s\n",
      "\n",
      "--- Testing with 10000 vectors (Dimension: 128) ---\n",
      "Generating 10 query vectors for N=10000...\n",
      "\n",
      "Running Milvus Test...\n",
      "Milvus collection 'performance_test_milvus' created with HNSW index.\n",
      "Milvus: Inserting 10000 vectors in batches of 50000...\n"
     ]
    },
    {
     "name": "stderr",
     "output_type": "stream",
     "text": [
      "Milvus Inserting Batches: 100%|██████████| 1/1 [00:00<00:00,  2.86it/s]\n"
     ]
    },
    {
     "name": "stdout",
     "output_type": "stream",
     "text": [
      "Milvus: Flushing all inserted data...\n",
      "Milvus total insertion and flush time: 3.3623s\n",
      "Milvus: Loading collection for search...\n"
     ]
    },
    {
     "name": "stderr",
     "output_type": "stream",
     "text": [
      "Milvus Searching: 100%|██████████| 10/10 [00:04<00:00,  2.48it/s]\n"
     ]
    },
    {
     "name": "stdout",
     "output_type": "stream",
     "text": [
      "Milvus average search time: 0.403123s\n",
      "\n",
      "Running Weaviate Test...\n",
      "Created Weaviate class 'PerformanceTestItem' with HNSW configuration.\n",
      "Weaviate: Inserting 10000 vectors in batches of 50000...\n"
     ]
    },
    {
     "name": "stderr",
     "output_type": "stream",
     "text": [
      "Weaviate Inserting Batches: 100%|██████████| 1/1 [00:04<00:00,  4.02s/it]\n"
     ]
    },
    {
     "name": "stdout",
     "output_type": "stream",
     "text": [
      "Weaviate insertion time: 4.0083s\n"
     ]
    },
    {
     "name": "stderr",
     "output_type": "stream",
     "text": [
      "Weaviate Searching: 100%|██████████| 10/10 [00:00<00:00, 336.88it/s]\n"
     ]
    },
    {
     "name": "stdout",
     "output_type": "stream",
     "text": [
      "Weaviate average search time: 0.002926s\n",
      "Dropped Weaviate class: PerformanceTestItem\n",
      "\n",
      "Running Qdrant Test...\n",
      "Qdrant collection 'performance_test_qdrant' created with optimized HNSW parameters.\n",
      "Qdrant: Inserting 10000 vectors in batches of 50000...\n"
     ]
    },
    {
     "name": "stderr",
     "output_type": "stream",
     "text": [
      "Qdrant Inserting Batches: 100%|██████████| 1/1 [00:02<00:00,  2.06s/it]\n"
     ]
    },
    {
     "name": "stdout",
     "output_type": "stream",
     "text": [
      "Qdrant insertion time (async upsert): 2.0466s\n"
     ]
    },
    {
     "name": "stderr",
     "output_type": "stream",
     "text": [
      "Qdrant Searching: 100%|██████████| 10/10 [00:00<00:00, 341.24it/s]\n"
     ]
    },
    {
     "name": "stdout",
     "output_type": "stream",
     "text": [
      "Qdrant average search time: 0.002881s\n",
      "\n",
      "Running Brute-Force Test...\n",
      "Brute-Force: Generating 10000 vectors for search...\n"
     ]
    },
    {
     "name": "stderr",
     "output_type": "stream",
     "text": [
      "Generating Brute-Force Data: 100%|██████████| 1/1 [00:00<00:00, 75.19it/s]\n",
      "Brute-Force Searching: 100%|██████████| 10/10 [00:00<00:00, 116.79it/s]"
     ]
    },
    {
     "name": "stdout",
     "output_type": "stream",
     "text": [
      "Brute-force average search time: 0.008542s\n",
      "\n",
      "--- Testing with 100000 vectors (Dimension: 128) ---\n",
      "Generating 10 query vectors for N=100000...\n",
      "\n",
      "Running Milvus Test...\n"
     ]
    },
    {
     "name": "stderr",
     "output_type": "stream",
     "text": [
      "\n"
     ]
    },
    {
     "name": "stdout",
     "output_type": "stream",
     "text": [
      "Milvus collection 'performance_test_milvus' created with HNSW index.\n",
      "Milvus: Inserting 100000 vectors in batches of 50000...\n"
     ]
    },
    {
     "name": "stderr",
     "output_type": "stream",
     "text": [
      "Milvus Inserting Batches: 100%|██████████| 2/2 [00:03<00:00,  1.73s/it]\n"
     ]
    },
    {
     "name": "stdout",
     "output_type": "stream",
     "text": [
      "Milvus: Flushing all inserted data...\n",
      "Milvus total insertion and flush time: 6.3709s\n",
      "Milvus: Loading collection for search...\n"
     ]
    },
    {
     "name": "stderr",
     "output_type": "stream",
     "text": [
      "Milvus Searching: 100%|██████████| 10/10 [00:03<00:00,  2.61it/s]\n"
     ]
    },
    {
     "name": "stdout",
     "output_type": "stream",
     "text": [
      "Milvus average search time: 0.381506s\n",
      "\n",
      "Running Weaviate Test...\n",
      "Created Weaviate class 'PerformanceTestItem' with HNSW configuration.\n",
      "Weaviate: Inserting 100000 vectors in batches of 50000...\n"
     ]
    },
    {
     "name": "stderr",
     "output_type": "stream",
     "text": [
      "Weaviate Inserting Batches: 100%|██████████| 2/2 [00:46<00:00, 23.15s/it]\n"
     ]
    },
    {
     "name": "stdout",
     "output_type": "stream",
     "text": [
      "Weaviate insertion time: 46.1178s\n"
     ]
    },
    {
     "name": "stderr",
     "output_type": "stream",
     "text": [
      "Weaviate Searching: 100%|██████████| 10/10 [00:00<00:00, 189.56it/s]\n"
     ]
    },
    {
     "name": "stdout",
     "output_type": "stream",
     "text": [
      "Weaviate average search time: 0.005257s\n",
      "Dropped Weaviate class: PerformanceTestItem\n",
      "\n",
      "Running Qdrant Test...\n",
      "Qdrant collection 'performance_test_qdrant' created with optimized HNSW parameters.\n",
      "Qdrant: Inserting 100000 vectors in batches of 50000...\n"
     ]
    },
    {
     "name": "stderr",
     "output_type": "stream",
     "text": [
      "Qdrant Inserting Batches: 100%|██████████| 2/2 [00:22<00:00, 11.30s/it]\n"
     ]
    },
    {
     "name": "stdout",
     "output_type": "stream",
     "text": [
      "Qdrant insertion time (async upsert): 22.4563s\n"
     ]
    },
    {
     "name": "stderr",
     "output_type": "stream",
     "text": [
      "Qdrant Searching: 100%|██████████| 10/10 [00:00<00:00, 55.20it/s]\n"
     ]
    },
    {
     "name": "stdout",
     "output_type": "stream",
     "text": [
      "Qdrant average search time: 0.018035s\n",
      "\n",
      "Running Brute-Force Test...\n",
      "Brute-Force: Generating 100000 vectors for search...\n"
     ]
    },
    {
     "name": "stderr",
     "output_type": "stream",
     "text": [
      "Generating Brute-Force Data: 100%|██████████| 2/2 [00:00<00:00, 15.18it/s]\n",
      "Brute-Force Searching: 100%|██████████| 10/10 [00:00<00:00, 11.70it/s]\n"
     ]
    },
    {
     "name": "stdout",
     "output_type": "stream",
     "text": [
      "Brute-force average search time: 0.085073s\n",
      "\n",
      "--- Testing with 1000000 vectors (Dimension: 128) ---\n",
      "Generating 10 query vectors for N=1000000...\n",
      "\n",
      "Running Milvus Test...\n",
      "Milvus collection 'performance_test_milvus' created with HNSW index.\n",
      "Milvus: Inserting 1000000 vectors in batches of 50000...\n"
     ]
    },
    {
     "name": "stderr",
     "output_type": "stream",
     "text": [
      "Milvus Inserting Batches: 100%|██████████| 20/20 [00:48<00:00,  2.44s/it]\n"
     ]
    },
    {
     "name": "stdout",
     "output_type": "stream",
     "text": [
      "Milvus: Flushing all inserted data...\n",
      "Milvus total insertion and flush time: 49.4185s\n",
      "Milvus: Loading collection for search...\n"
     ]
    },
    {
     "name": "stderr",
     "output_type": "stream",
     "text": [
      "Milvus Searching: 100%|██████████| 10/10 [00:04<00:00,  2.45it/s]\n"
     ]
    },
    {
     "name": "stdout",
     "output_type": "stream",
     "text": [
      "Milvus average search time: 0.407027s\n",
      "\n",
      "Running Weaviate Test...\n",
      "Created Weaviate class 'PerformanceTestItem' with HNSW configuration.\n",
      "Weaviate: Inserting 1000000 vectors in batches of 50000...\n"
     ]
    },
    {
     "name": "stderr",
     "output_type": "stream",
     "text": [
      "Weaviate Inserting Batches: 100%|██████████| 20/20 [16:41<00:00, 50.09s/it]\n"
     ]
    },
    {
     "name": "stdout",
     "output_type": "stream",
     "text": [
      "Weaviate insertion time: 1000.0860s\n"
     ]
    },
    {
     "name": "stderr",
     "output_type": "stream",
     "text": [
      "Weaviate Searching: 100%|██████████| 10/10 [00:00<00:00, 11.75it/s]\n"
     ]
    },
    {
     "name": "stdout",
     "output_type": "stream",
     "text": [
      "Weaviate average search time: 0.084725s\n",
      "Dropped Weaviate class: PerformanceTestItem\n",
      "\n",
      "Running Qdrant Test...\n",
      "Qdrant collection 'performance_test_qdrant' created with optimized HNSW parameters.\n",
      "Qdrant: Inserting 1000000 vectors in batches of 50000...\n"
     ]
    },
    {
     "name": "stderr",
     "output_type": "stream",
     "text": [
      "Qdrant Inserting Batches: 100%|██████████| 20/20 [04:15<00:00, 12.78s/it]\n"
     ]
    },
    {
     "name": "stdout",
     "output_type": "stream",
     "text": [
      "Qdrant insertion time (async upsert): 254.0183s\n"
     ]
    },
    {
     "name": "stderr",
     "output_type": "stream",
     "text": [
      "Qdrant Searching: 100%|██████████| 10/10 [00:01<00:00,  9.02it/s]\n"
     ]
    },
    {
     "name": "stdout",
     "output_type": "stream",
     "text": [
      "Qdrant average search time: 0.109794s\n",
      "\n",
      "Running Brute-Force Test...\n",
      "Brute-Force: Generating 1000000 vectors for search...\n"
     ]
    },
    {
     "name": "stderr",
     "output_type": "stream",
     "text": [
      "Generating Brute-Force Data: 100%|██████████| 20/20 [00:01<00:00, 14.78it/s]\n",
      "Brute-Force Searching: 100%|██████████| 10/10 [00:08<00:00,  1.18it/s]\n"
     ]
    },
    {
     "name": "stdout",
     "output_type": "stream",
     "text": [
      "Brute-force average search time: 0.846318s\n",
      "\n",
      "--- Testing with 2000000 vectors (Dimension: 128) ---\n",
      "Generating 10 query vectors for N=2000000...\n",
      "\n",
      "Running Milvus Test...\n",
      "Milvus collection 'performance_test_milvus' created with HNSW index.\n",
      "Milvus: Inserting 2000000 vectors in batches of 50000...\n"
     ]
    },
    {
     "name": "stderr",
     "output_type": "stream",
     "text": [
      "Milvus Inserting Batches: 100%|██████████| 40/40 [01:42<00:00,  2.56s/it]\n"
     ]
    },
    {
     "name": "stdout",
     "output_type": "stream",
     "text": [
      "Milvus: Flushing all inserted data...\n",
      "Milvus total insertion and flush time: 101.3661s\n",
      "Milvus: Loading collection for search...\n"
     ]
    },
    {
     "name": "stderr",
     "output_type": "stream",
     "text": [
      "Milvus Searching: 100%|██████████| 10/10 [00:03<00:00,  2.54it/s]\n"
     ]
    },
    {
     "name": "stdout",
     "output_type": "stream",
     "text": [
      "Milvus average search time: 0.391621s\n",
      "\n",
      "Running Qdrant Test...\n",
      "Qdrant collection 'performance_test_qdrant' created with optimized HNSW parameters.\n",
      "Qdrant: Inserting 2000000 vectors in batches of 50000...\n"
     ]
    },
    {
     "name": "stderr",
     "output_type": "stream",
     "text": [
      "Qdrant Inserting Batches: 100%|██████████| 40/40 [09:00<00:00, 13.50s/it]\n"
     ]
    },
    {
     "name": "stdout",
     "output_type": "stream",
     "text": [
      "Qdrant insertion time (async upsert): 536.5638s\n"
     ]
    },
    {
     "name": "stderr",
     "output_type": "stream",
     "text": [
      "Qdrant Searching: 100%|██████████| 10/10 [00:00<00:00, 13.39it/s]\n"
     ]
    },
    {
     "name": "stdout",
     "output_type": "stream",
     "text": [
      "Qdrant average search time: 0.074290s\n",
      "\n",
      "Running Brute-Force Test...\n",
      "Brute-Force: Generating 2000000 vectors for search...\n"
     ]
    },
    {
     "name": "stderr",
     "output_type": "stream",
     "text": [
      "Generating Brute-Force Data: 100%|██████████| 40/40 [00:02<00:00, 15.09it/s]\n",
      "Brute-Force Searching: 100%|██████████| 10/10 [00:16<00:00,  1.69s/it]\n"
     ]
    },
    {
     "name": "stdout",
     "output_type": "stream",
     "text": [
      "Brute-force average search time: 1.692040s\n",
      "\n",
      "--- Testing with 5000000 vectors (Dimension: 128) ---\n",
      "Generating 10 query vectors for N=5000000...\n",
      "\n",
      "Running Milvus Test...\n",
      "Milvus collection 'performance_test_milvus' created with HNSW index.\n",
      "Milvus: Inserting 5000000 vectors in batches of 50000...\n"
     ]
    },
    {
     "name": "stderr",
     "output_type": "stream",
     "text": [
      "Milvus Inserting Batches: 100%|██████████| 100/100 [04:48<00:00,  2.89s/it]\n"
     ]
    },
    {
     "name": "stdout",
     "output_type": "stream",
     "text": [
      "Milvus: Flushing all inserted data...\n",
      "Milvus total insertion and flush time: 279.6978s\n",
      "Milvus: Loading collection for search...\n"
     ]
    },
    {
     "name": "stderr",
     "output_type": "stream",
     "text": [
      "Milvus Searching: 100%|██████████| 10/10 [00:03<00:00,  2.68it/s]\n"
     ]
    },
    {
     "name": "stdout",
     "output_type": "stream",
     "text": [
      "Milvus average search time: 0.372173s\n",
      "\n",
      "Running Qdrant Test...\n",
      "Qdrant collection 'performance_test_qdrant' created with optimized HNSW parameters.\n",
      "Qdrant: Inserting 5000000 vectors in batches of 50000...\n"
     ]
    },
    {
     "name": "stderr",
     "output_type": "stream",
     "text": [
      "Qdrant Inserting Batches: 100%|██████████| 100/100 [23:12<00:00, 13.93s/it]\n"
     ]
    },
    {
     "name": "stdout",
     "output_type": "stream",
     "text": [
      "Qdrant insertion time (async upsert): 1383.6561s\n"
     ]
    },
    {
     "name": "stderr",
     "output_type": "stream",
     "text": [
      "Qdrant Searching: 100%|██████████| 10/10 [00:01<00:00,  6.17it/s]\n"
     ]
    },
    {
     "name": "stdout",
     "output_type": "stream",
     "text": [
      "Qdrant average search time: 0.160725s\n",
      "\n",
      "Running Brute-Force Test...\n",
      "Brute-Force: Generating 5000000 vectors for search...\n"
     ]
    },
    {
     "name": "stderr",
     "output_type": "stream",
     "text": [
      "Generating Brute-Force Data: 100%|██████████| 100/100 [00:06<00:00, 14.46it/s]\n",
      "Brute-Force Searching: 100%|██████████| 10/10 [00:41<00:00,  4.19s/it]\n"
     ]
    },
    {
     "name": "stdout",
     "output_type": "stream",
     "text": [
      "Brute-force average search time: 4.188371s\n",
      "\n",
      "--- Experiment Complete ---\n",
      "             db  vectors  insert_time  search_time\n",
      "0        Milvus     1000     3.364757     0.369010\n",
      "1      Weaviate     1000     1.644355     0.001592\n",
      "2        Qdrant     1000     0.207137     0.001634\n",
      "3   Brute-Force     1000     0.000000     0.000987\n",
      "4        Milvus    10000     3.362306     0.403123\n",
      "5      Weaviate    10000     4.008335     0.002926\n",
      "6        Qdrant    10000     2.046612     0.002881\n",
      "7   Brute-Force    10000     0.000000     0.008542\n",
      "8        Milvus   100000     6.370948     0.381506\n",
      "9      Weaviate   100000    46.117830     0.005257\n",
      "10       Qdrant   100000    22.456317     0.018035\n",
      "11  Brute-Force   100000     0.000000     0.085073\n",
      "12       Milvus  1000000    49.418482     0.407027\n",
      "13     Weaviate  1000000  1000.085994     0.084725\n",
      "14       Qdrant  1000000   254.018318     0.109794\n",
      "15  Brute-Force  1000000     0.000000     0.846318\n",
      "16       Milvus  2000000   101.366137     0.391621\n",
      "17       Qdrant  2000000   536.563845     0.074290\n",
      "18  Brute-Force  2000000     0.000000     1.692040\n",
      "19       Milvus  5000000   279.697809     0.372173\n",
      "20       Qdrant  5000000  1383.656139     0.160725\n",
      "21  Brute-Force  5000000     0.000000     4.188371\n",
      "Results saved to performance_results\\performance_dim128_top10_batch50000.csv\n"
     ]
    }
   ],
   "source": [
    "# Initialize results storage\n",
    "results = []\n",
    "query_vectors_cache = {} \n",
    "\n",
    "\n",
    "for num_vectors_total in NUM_VECTORS_TO_TEST:\n",
    "    print(f\"\\n--- Testing with {num_vectors_total} vectors (Dimension: {VECTOR_DIMENSION}) ---\")\n",
    "    \n",
    "    # Generate or retrieve cached query vectors\n",
    "    # Query vectors are generated once per num_vectors_total to ensure fair comparison for search\n",
    "    if num_vectors_total not in query_vectors_cache:\n",
    "        print(f\"Generating {NUM_QUERIES} query vectors for N={num_vectors_total}...\")\n",
    "        query_vectors_cache[num_vectors_total] = generate_random_vectors(NUM_QUERIES, VECTOR_DIMENSION)\n",
    "    query_vectors_for_current_size = query_vectors_cache[num_vectors_total]\n",
    "\n",
    "    # --- Milvus Test ---\n",
    "    if milvus_client_available:\n",
    "        try:\n",
    "            print(\"\\nRunning Milvus Test...\")\n",
    "            milvus_collection = setup_milvus(MILVUS_COLLECTION_NAME, VECTOR_DIMENSION)\n",
    "            milvus_total_insert_time = 0\n",
    "            \n",
    "            print(f\"Milvus: Inserting {num_vectors_total} vectors in batches of {DATA_INSERTION_BATCH_SIZE}...\")\n",
    "            for i in tqdm(range(0, num_vectors_total, DATA_INSERTION_BATCH_SIZE), desc=\"Milvus Inserting Batches\"):\n",
    "                batch_start_id = i\n",
    "                actual_batch_size = min(DATA_INSERTION_BATCH_SIZE, num_vectors_total - i)\n",
    "                if actual_batch_size == 0: continue\n",
    "\n",
    "                batch_ids = generate_ids(actual_batch_size, start_id=batch_start_id)\n",
    "                batch_vectors = generate_random_vectors(actual_batch_size, VECTOR_DIMENSION)\n",
    "\n",
    "                start_time_batch = time.time()\n",
    "                insert_into_milvus(milvus_collection, batch_ids, batch_vectors)\n",
    "                milvus_total_insert_time += (time.time() - start_time_batch)\n",
    "            \n",
    "            print(\"Milvus: Flushing all inserted data...\")\n",
    "            start_flush_time = time.time()\n",
    "            milvus_collection.flush()\n",
    "            milvus_total_insert_time += (time.time() - start_flush_time) # Add final flush time\n",
    "            print(f\"Milvus total insertion and flush time: {milvus_total_insert_time:.4f}s\")\n",
    "\n",
    "            print(\"Milvus: Loading collection for search...\")\n",
    "            milvus_collection.load()\n",
    "            search_times = []\n",
    "            for q_vec in tqdm(query_vectors_for_current_size, desc=\"Milvus Searching\"):\n",
    "                start_time_search = time.time()\n",
    "                search_milvus(milvus_collection, q_vec, TOP_K)\n",
    "                search_times.append(time.time() - start_time_search)\n",
    "            milvus_avg_search_time = np.mean(search_times) if search_times else np.nan\n",
    "            milvus_collection.release()\n",
    "            print(f\"Milvus average search time: {milvus_avg_search_time:.6f}s\")\n",
    "            \n",
    "            results.append({\"db\": \"Milvus\", \"vectors\": num_vectors_total, \"insert_time\": milvus_total_insert_time, \"search_time\": milvus_avg_search_time})\n",
    "            utility.drop_collection(MILVUS_COLLECTION_NAME)\n",
    "\n",
    "        except Exception as e:\n",
    "            print(f\"Error during Milvus test for {num_vectors_total} vectors: {e}\")\n",
    "            results.append({\"db\": \"Milvus\", \"vectors\": num_vectors_total, \"insert_time\": np.nan, \"search_time\": np.nan})\n",
    "\n",
    "    # --- Weaviate Test ---\n",
    "    if weaviate_client_available and num_vectors_total <= MAX_WEAVIATE_VECTORS:\n",
    "        try:\n",
    "            print(\"\\nRunning Weaviate Test...\")\n",
    "            setup_weaviate(weaviate_client, WEAVIATE_CLASS_NAME, VECTOR_DIMENSION)\n",
    "            weaviate_total_insert_time = 0\n",
    "            \n",
    "            print(f\"Weaviate: Inserting {num_vectors_total} vectors in batches of {DATA_INSERTION_BATCH_SIZE}...\")\n",
    "            for i in tqdm(range(0, num_vectors_total, DATA_INSERTION_BATCH_SIZE), desc=\"Weaviate Inserting Batches\"):\n",
    "                batch_start_id = i\n",
    "                actual_batch_size = min(DATA_INSERTION_BATCH_SIZE, num_vectors_total - i)\n",
    "                if actual_batch_size == 0: continue\n",
    "                \n",
    "                batch_ids = generate_ids(actual_batch_size, start_id=batch_start_id)\n",
    "                batch_vectors = generate_random_vectors(actual_batch_size, VECTOR_DIMENSION)\n",
    "\n",
    "                start_time_batch = time.time()\n",
    "                insert_into_weaviate(weaviate_client, WEAVIATE_CLASS_NAME, batch_ids, batch_vectors)\n",
    "                weaviate_total_insert_time += (time.time() - start_time_batch)\n",
    "            print(f\"Weaviate insertion time: {weaviate_total_insert_time:.4f}s\")\n",
    "\n",
    "            search_times = []\n",
    "            for q_vec in tqdm(query_vectors_for_current_size, desc=\"Weaviate Searching\"):\n",
    "                start_time_search = time.time()\n",
    "                search_weaviate(weaviate_client, WEAVIATE_CLASS_NAME, q_vec, TOP_K)\n",
    "                search_times.append(time.time() - start_time_search)\n",
    "            weaviate_avg_search_time = np.mean(search_times) if search_times else np.nan\n",
    "            print(f\"Weaviate average search time: {weaviate_avg_search_time:.6f}s\")\n",
    "\n",
    "            results.append({\"db\": \"Weaviate\", \"vectors\": num_vectors_total, \"insert_time\": weaviate_total_insert_time, \"search_time\": weaviate_avg_search_time})\n",
    "            # Weaviate cleanup\n",
    "            if weaviate_client.collections.exists(WEAVIATE_CLASS_NAME):\n",
    "                weaviate_client.collections.delete(WEAVIATE_CLASS_NAME)\n",
    "                print(f\"Dropped Weaviate class: {WEAVIATE_CLASS_NAME}\")\n",
    "        except Exception as e:\n",
    "            print(f\"Error during Weaviate test for {num_vectors_total} vectors: {e}\")\n",
    "            results.append({\"db\": \"Weaviate\", \"vectors\": num_vectors_total, \"insert_time\": np.nan, \"search_time\": np.nan})\n",
    "\n",
    "    # --- Qdrant Test ---\n",
    "    if qdrant_client_available:\n",
    "        try:\n",
    "            print(\"\\nRunning Qdrant Test...\")\n",
    "            setup_qdrant(qdrant_clientx, QDRANT_COLLECTION_NAME, VECTOR_DIMENSION)\n",
    "            qdrant_total_insert_time = 0\n",
    "\n",
    "            print(f\"Qdrant: Inserting {num_vectors_total} vectors in batches of {DATA_INSERTION_BATCH_SIZE}...\")\n",
    "            for i in tqdm(range(0, num_vectors_total, DATA_INSERTION_BATCH_SIZE), desc=\"Qdrant Inserting Batches\"):\n",
    "                batch_start_id = i\n",
    "                actual_batch_size = min(DATA_INSERTION_BATCH_SIZE, num_vectors_total - i)\n",
    "                if actual_batch_size == 0: continue\n",
    "\n",
    "                batch_ids = generate_ids(actual_batch_size, start_id=batch_start_id)\n",
    "                batch_vectors = generate_random_vectors(actual_batch_size, VECTOR_DIMENSION)\n",
    "            \n",
    "                start_time_batch = time.time()\n",
    "                insert_into_qdrant(qdrant_clientx, QDRANT_COLLECTION_NAME, batch_ids, batch_vectors)\n",
    "                qdrant_total_insert_time += (time.time() - start_time_batch)\n",
    "            \n",
    "            print(f\"Qdrant insertion time (async upsert): {qdrant_total_insert_time:.4f}s\")\n",
    "\n",
    "            # Add a small wait to ensure all vectors are indexed after async insertion\n",
    "            time.sleep(1)\n",
    "\n",
    "            search_times = []\n",
    "            for q_vec in tqdm(query_vectors_for_current_size, desc=\"Qdrant Searching\"):\n",
    "                start_time_search = time.time()\n",
    "                search_qdrant(qdrant_clientx, QDRANT_COLLECTION_NAME, q_vec, TOP_K)\n",
    "                search_times.append(time.time() - start_time_search)\n",
    "            qdrant_avg_search_time = np.mean(search_times) if search_times else np.nan\n",
    "            print(f\"Qdrant average search time: {qdrant_avg_search_time:.6f}s\")\n",
    "            \n",
    "            results.append({\"db\": \"Qdrant\", \"vectors\": num_vectors_total, \"insert_time\": qdrant_total_insert_time, \"search_time\": qdrant_avg_search_time})\n",
    "            qdrant_clientx.delete_collection(collection_name=QDRANT_COLLECTION_NAME)\n",
    "        except Exception as e:\n",
    "            print(f\"Error during Qdrant test for {num_vectors_total} vectors: {e}\")\n",
    "            results.append({\"db\": \"Qdrant\", \"vectors\": num_vectors_total, \"insert_time\": np.nan, \"search_time\": np.nan})\n",
    "            \n",
    "    # --- Brute-Force Test ---\n",
    "    print(\"\\nRunning Brute-Force Test...\")\n",
    "    brute_force_insert_time = 0 # Considered negligible as data is just held in memory\n",
    "    brute_force_avg_search_time = np.nan\n",
    "    all_data_vectors_for_brute_force = None # Initialize\n",
    "\n",
    "    if num_vectors_total > MAX_BRUTE_FORCE_VECTORS:\n",
    "        print(f\"Skipping Brute-Force data generation and search for {num_vectors_total} vectors (exceeds MAX_BRUTE_FORCE_VECTORS={MAX_BRUTE_FORCE_VECTORS}).\")\n",
    "    else:\n",
    "        temp_brute_force_vectors_list = []\n",
    "        print(f\"Brute-Force: Generating {num_vectors_total} vectors for search...\")\n",
    "        for i in tqdm(range(0, num_vectors_total, DATA_INSERTION_BATCH_SIZE), desc=\"Generating Brute-Force Data\"):\n",
    "            actual_batch_size = min(DATA_INSERTION_BATCH_SIZE, num_vectors_total - i)\n",
    "            if actual_batch_size == 0: continue\n",
    "            batch_vectors = generate_random_vectors(actual_batch_size, VECTOR_DIMENSION)\n",
    "            temp_brute_force_vectors_list.append(batch_vectors)\n",
    "        \n",
    "        if temp_brute_force_vectors_list:\n",
    "             all_data_vectors_for_brute_force = np.concatenate(temp_brute_force_vectors_list)\n",
    "        else:\n",
    "             all_data_vectors_for_brute_force = np.array([]).reshape(0, VECTOR_DIMENSION)\n",
    "        temp_brute_force_vectors_list = None # Free memory\n",
    "\n",
    "        search_times_bf = []\n",
    "        if all_data_vectors_for_brute_force is not None and all_data_vectors_for_brute_force.shape[0] > 0:\n",
    "            for q_vec in tqdm(query_vectors_for_current_size, desc=\"Brute-Force Searching\"):\n",
    "                start_time_bf_search = time.time()\n",
    "                brute_force_search(q_vec, all_data_vectors_for_brute_force, TOP_K)\n",
    "                search_times_bf.append(time.time() - start_time_bf_search)\n",
    "            brute_force_avg_search_time = np.mean(search_times_bf) if search_times_bf else np.nan\n",
    "        print(f\"Brute-force average search time: {brute_force_avg_search_time:.6f}s\")\n",
    "    \n",
    "    results.append({\"db\": \"Brute-Force\", \"vectors\": num_vectors_total, \"insert_time\": brute_force_insert_time, \"search_time\": brute_force_avg_search_time})\n",
    "    if all_data_vectors_for_brute_force is not None:\n",
    "        del all_data_vectors_for_brute_force # Explicitly delete to free memory\n",
    "        all_data_vectors_for_brute_force = None\n",
    "    gc.collect() # Force garbage collection to free memory\n",
    "\n",
    "# Convert results to DataFrame for easier plotting and analysis\n",
    "results_df = pd.DataFrame(results)\n",
    "print(\"\\n--- Experiment Complete ---\")\n",
    "if not results_df.empty:\n",
    "    print(results_df)\n",
    "    # Save results to CSV\n",
    "    csv_filename = os.path.join(RESULTS_DIR, f\"performance_dim{VECTOR_DIMENSION}_top{TOP_K}_batch{DATA_INSERTION_BATCH_SIZE}.csv\")\n",
    "    results_df.to_csv(csv_filename, index=False)\n",
    "    print(f\"Results saved to {csv_filename}\")\n",
    "else:\n",
    "    print(\"No results were generated.\")"
   ]
  },
  {
   "cell_type": "markdown",
   "id": "1eb07b79",
   "metadata": {},
   "source": [
    "## 5. Results Visualization"
   ]
  },
  {
   "cell_type": "code",
   "execution_count": 10,
   "id": "076f5f85",
   "metadata": {},
   "outputs": [
    {
     "data": {
      "image/png": "[encoded data removed]",
      "text/plain": [
       "<Figure size 1400x700 with 1 Axes>"
      ]
     },
     "metadata": {},
     "output_type": "display_data"
    },
    {
     "data": {
      "image/png": "[encoded data removed]",
      "text/plain": [
       "<Figure size 1400x700 with 1 Axes>"
      ]
     },
     "metadata": {},
     "output_type": "display_data"
    }
   ],
   "source": [
    "# Plotting the results\n",
    "if not results_df.empty:\n",
    "    # Ensure 'vectors' is numeric for plotting, handle potential NaNs if a test failed early\n",
    "    results_df['vectors'] = pd.to_numeric(results_df['vectors'], errors='coerce')\n",
    "    results_df['insert_time'] = pd.to_numeric(results_df['insert_time'], errors='coerce')\n",
    "    results_df['search_time'] = pd.to_numeric(results_df['search_time'], errors='coerce')\n",
    "\n",
    "    plt.style.use('default')  # Use default style instead of seaborn dependency \n",
    "\n",
    "    # Plot 1: Insertion Time vs. Number of Vectors\n",
    "    plt.figure(figsize=(14, 7)) # Wider plot\n",
    "    for db_name in results_df[\"db\"].unique():\n",
    "        if db_name == \"Brute-Force\": \n",
    "            continue\n",
    "        db_data = results_df[results_df[\"db\"] == db_name].dropna(subset=['vectors', 'insert_time'])\n",
    "        if not db_data.empty:\n",
    "            plt.plot(db_data[\"vectors\"], db_data[\"insert_time\"], marker='o', linestyle='-', label=db_name)\n",
    "    \n",
    "    plt.title(f'Insertion Time vs. Number of Vectors (Dim: {VECTOR_DIMENSION}, Batch: {DATA_INSERTION_BATCH_SIZE})')\n",
    "    plt.xlabel('Number of Vectors')\n",
    "    plt.ylabel('Total Insertion Time (seconds)')\n",
    "    plt.legend()\n",
    "    plt.grid(True, which=\"both\", ls=\"-\") # Grid for major and minor ticks on log scale\n",
    "    plt.xscale('log') \n",
    "    plt.yscale('log') \n",
    "    plt.savefig(os.path.join(RESULTS_DIR, f\"insertion_time_dim{VECTOR_DIMENSION}_batch{DATA_INSERTION_BATCH_SIZE}.png\"))\n",
    "    plt.show()\n",
    "\n",
    "    # Plot 2: Average Search Time vs. Number of Vectors\n",
    "    plt.figure(figsize=(14, 7)) # Wider plot\n",
    "    for db_name in results_df[\"db\"].unique():\n",
    "        db_data = results_df[results_df[\"db\"] == db_name].dropna(subset=['vectors', 'search_time'])\n",
    "        if not db_data.empty:\n",
    "            plt.plot(db_data[\"vectors\"], db_data[\"search_time\"], marker='o', linestyle='-', label=db_name)\n",
    "\n",
    "    plt.title(f'Average Search Time vs. Number of Vectors (Dim: {VECTOR_DIMENSION}, Top-K: {TOP_K})')\n",
    "    plt.xlabel('Number of Vectors')\n",
    "    plt.ylabel(f'Average Search Time (seconds) for {NUM_QUERIES} queries')\n",
    "    plt.legend()\n",
    "    plt.grid(True, which=\"both\", ls=\"-\")\n",
    "    plt.xscale('log')\n",
    "    plt.yscale('log')\n",
    "    plt.savefig(os.path.join(RESULTS_DIR, f\"search_time_dim{VECTOR_DIMENSION}_top{TOP_K}.png\"))\n",
    "    plt.show()\n",
    "else:\n",
    "    print(\"No results to plot. Please ensure the experiment ran correctly and produced data.\")"
   ]
  },
  {
   "cell_type": "code",
   "execution_count": 11,
   "id": "f299a2b8",
   "metadata": {},
   "outputs": [
    {
     "name": "stdout",
     "output_type": "stream",
     "text": [
      "Cleanup function defined. Call cleanup_all() if needed.\n"
     ]
    }
   ],
   "source": [
    "def cleanup_all():\n",
    "    # Milvus Cleanup\n",
    "    if 'milvus_client_available' in globals() and milvus_client_available:\n",
    "        try:\n",
    "            connections.connect(host=MILVUS_HOST, port=MILVUS_PORT, alias=\"cleanup_milvus\")\n",
    "            if utility.has_collection(MILVUS_COLLECTION_NAME, using=\"cleanup_milvus\"):\n",
    "                utility.drop_collection(MILVUS_COLLECTION_NAME, using=\"cleanup_milvus\")\n",
    "                print(f\"Cleaned up Milvus collection: {MILVUS_COLLECTION_NAME}\")\n",
    "            connections.disconnect(\"cleanup_milvus\")\n",
    "        except Exception as e:\n",
    "            print(f\"Error cleaning Milvus: {e}\")\n",
    "\n",
    "    # Weaviate Cleanup\n",
    "    if 'weaviate_client_available' in globals() and weaviate_client_available:\n",
    "        try:\n",
    "            if weaviate_client.collections.exists(WEAVIATE_CLASS_NAME):\n",
    "                weaviate_client.collections.delete(WEAVIATE_CLASS_NAME)\n",
    "                print(f\"Cleaned up Weaviate class: {WEAVIATE_CLASS_NAME}\")\n",
    "        except Exception as e:\n",
    "            print(f\"Error cleaning Weaviate (class might not exist): {e}\")\n",
    "    \n",
    "    # Qdrant Cleanup\n",
    "    if 'qdrant_client_available' in globals() and qdrant_client_available:\n",
    "        try:\n",
    "            if QDRANT_COLLECTION_NAME in [c.name for c in qdrant_client.get_collections().collections]:\n",
    "                qdrant_clientx.delete_collection(collection_name=QDRANT_COLLECTION_NAME)\n",
    "                print(f\"Cleaned up Qdrant collection: {QDRANT_COLLECTION_NAME}\")\n",
    "        except Exception as e:\n",
    "            print(f\"Error cleaning Qdrant (collection might not exist): {e}\")\n",
    "\n",
    "print(\"Cleanup function defined. Call cleanup_all() if needed.\")\n",
    "# cleanup_all() # Uncomment to run cleanup"
   ]
  }
 ],
 "metadata": {
  "kernelspec": {
   "display_name": "Python 3",
   "language": "python",
   "name": "python3"
  },
  "language_info": {
   "codemirror_mode": {
    "name": "ipython",
    "version": 3
   },
   "file_extension": ".py",
   "mimetype": "text/x-python",
   "name": "python",
   "nbconvert_exporter": "python",
   "pygments_lexer": "ipython3",
   "version": "3.13.1"
  }
 },
 "nbformat": 4,
 "nbformat_minor": 5
}
